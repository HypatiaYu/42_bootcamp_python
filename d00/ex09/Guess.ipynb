{
 "cells": [
  {
   "cell_type": "code",
   "execution_count": 1,
   "metadata": {},
   "outputs": [],
   "source": [
    "import random"
   ]
  },
  {
   "cell_type": "code",
   "execution_count": 2,
   "metadata": {},
   "outputs": [
    {
     "name": "stdout",
     "output_type": "stream",
     "text": [
      "This is an interactive guessing game! \n",
      "You have to enter a number between 1 and 99 to find out the secret number. \n",
      "Type 'exit' to end the game. \n",
      "Good luck!\n"
     ]
    }
   ],
   "source": [
    "print(\"This is an interactive guessing game! \\nYou have to enter a number between 1 and 99 to find out the secret number. \\nType 'exit' to end the game. \\nGood luck!\")"
   ]
  },
  {
   "cell_type": "code",
   "execution_count": 3,
   "metadata": {},
   "outputs": [],
   "source": [
    "number = random.randint(0, 99)"
   ]
  },
  {
   "cell_type": "code",
   "execution_count": 11,
   "metadata": {},
   "outputs": [
    {
     "name": "stdin",
     "output_type": "stream",
     "text": [
      "What's your guess between 1 and 99? 30\n"
     ]
    }
   ],
   "source": [
    "guess = input(\"What's your guess between 1 and 99?\")\n",
    "guess = int(guess)"
   ]
  },
  {
   "cell_type": "code",
   "execution_count": null,
   "metadata": {},
   "outputs": [
    {
     "name": "stdout",
     "output_type": "stream",
     "text": [
      "Too low!\n"
     ]
    }
   ],
   "source": [
    "count = 0\n",
    "while (guess != number):\n",
    "    if (guess < number):\n",
    "        print(\"Too low!\")\n",
    "    elif (guess > number): \n",
    "        print(\"Too high!\")\n",
    "    guess = input(\"What's your guess between 1 and 99?\")\n",
    "    guess = int(guess)\n",
    "    count = count + 1"
   ]
  },
  {
   "cell_type": "code",
   "execution_count": 4,
   "metadata": {},
   "outputs": [
    {
     "name": "stdout",
     "output_type": "stream",
     "text": [
      "Congratulations, you've got it!\n",
      "You won in  5 attempts!\n"
     ]
    }
   ],
   "source": [
    "count = 5\n",
    "print(\"Congratulations, you've got it!\\nYou won in \" , count, \"attempts!\")"
   ]
  },
  {
   "cell_type": "code",
   "execution_count": null,
   "metadata": {},
   "outputs": [],
   "source": []
  },
  {
   "cell_type": "code",
   "execution_count": null,
   "metadata": {},
   "outputs": [],
   "source": []
  }
 ],
 "metadata": {
  "kernelspec": {
   "display_name": "Python 3",
   "language": "python",
   "name": "python3"
  },
  "language_info": {
   "codemirror_mode": {
    "name": "ipython",
    "version": 3
   },
   "file_extension": ".py",
   "mimetype": "text/x-python",
   "name": "python",
   "nbconvert_exporter": "python",
   "pygments_lexer": "ipython3",
   "version": "3.7.3"
  }
 },
 "nbformat": 4,
 "nbformat_minor": 2
}
