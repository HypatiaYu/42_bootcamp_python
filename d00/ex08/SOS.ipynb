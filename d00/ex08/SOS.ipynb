{
 "cells": [
  {
   "cell_type": "code",
   "execution_count": 1,
   "metadata": {},
   "outputs": [],
   "source": [
    "import sys"
   ]
  },
  {
   "cell_type": "code",
   "execution_count": 2,
   "metadata": {},
   "outputs": [],
   "source": [
    "arguments = len(sys.argv)"
   ]
  },
  {
   "cell_type": "code",
   "execution_count": 17,
   "metadata": {},
   "outputs": [
    {
     "name": "stdout",
     "output_type": "stream",
     "text": [
      "ERROR\n"
     ]
    }
   ],
   "source": [
    "#check if everthing is alphanumeric\n",
    "for i in range(1, arguments - 1):\n",
    "    if ((sys.argv[i]).isalnum() == False):\n",
    "        print(\"ERROR\")\n",
    "        sys.exit"
   ]
  },
  {
   "cell_type": "code",
   "execution_count": 9,
   "metadata": {},
   "outputs": [],
   "source": [
    "system_arguments = sys.argv"
   ]
  },
  {
   "cell_type": "code",
   "execution_count": 29,
   "metadata": {},
   "outputs": [],
   "source": [
    "for i in range(1, arguments - 1):\n",
    "    (system_arguments[i]).lower()"
   ]
  },
  {
   "cell_type": "code",
   "execution_count": 12,
   "metadata": {},
   "outputs": [],
   "source": [
    "morse_code_dict = { 'a':'.-',\n",
    "                   'b':'-...', \n",
    "                   'c':'-.-.', \n",
    "                   'd':'-..', \n",
    "                   'e':'.',\n",
    "                   'f':'..-.', \n",
    "                   'g':'--.', \n",
    "                   'h':'....',\n",
    "                   'i':'..', \n",
    "                   'j':'.---', \n",
    "                   'k':'-.-',\n",
    "                   'l':'.-..', \n",
    "                   'm':'--', \n",
    "                   'n':'-.',\n",
    "                   'o':'---', \n",
    "                   'p':'.--.', \n",
    "                   'q':'--.-',\n",
    "                   'r':'.-.', \n",
    "                   's':'...', \n",
    "                   't':'-',\n",
    "                   'u':'..-', \n",
    "                   'v':'...-', \n",
    "                   'w':'.--',\n",
    "                   'x':'-..-', \n",
    "                   'y':'-.--', \n",
    "                   'z':'--..',\n",
    "                   '1':'.----', \n",
    "                   '2':'..---', \n",
    "                   '3':'...--',\n",
    "                   '4':'....-', \n",
    "                   '5':'.....', \n",
    "                   '6':'-....',\n",
    "                   '7':'--...', \n",
    "                   '8':'---..', \n",
    "                   '9':'----.',\n",
    "                   '0':'-----', \n",
    "}"
   ]
  },
  {
   "cell_type": "code",
   "execution_count": 31,
   "metadata": {},
   "outputs": [
    {
     "name": "stdout",
     "output_type": "stream",
     "text": [
      "-f\n"
     ]
    },
    {
     "ename": "KeyError",
     "evalue": "'-'",
     "output_type": "error",
     "traceback": [
      "\u001b[1;31m---------------------------------------------------------------------------\u001b[0m",
      "\u001b[1;31mKeyError\u001b[0m                                  Traceback (most recent call last)",
      "\u001b[1;32m<ipython-input-31-483a4d3b98a8>\u001b[0m in \u001b[0;36m<module>\u001b[1;34m\u001b[0m\n\u001b[0;32m      5\u001b[0m     \u001b[0mprint\u001b[0m\u001b[1;33m(\u001b[0m\u001b[0mstring\u001b[0m\u001b[1;33m)\u001b[0m\u001b[1;33m\u001b[0m\u001b[1;33m\u001b[0m\u001b[0m\n\u001b[0;32m      6\u001b[0m     \u001b[1;32mfor\u001b[0m \u001b[0mi\u001b[0m \u001b[1;32min\u001b[0m \u001b[0mrange\u001b[0m\u001b[1;33m(\u001b[0m\u001b[1;36m0\u001b[0m\u001b[1;33m,\u001b[0m \u001b[0mlen\u001b[0m\u001b[1;33m(\u001b[0m\u001b[0mstring\u001b[0m\u001b[1;33m)\u001b[0m\u001b[1;33m)\u001b[0m\u001b[1;33m:\u001b[0m\u001b[1;33m\u001b[0m\u001b[1;33m\u001b[0m\u001b[0m\n\u001b[1;32m----> 7\u001b[1;33m         \u001b[0mnew_string\u001b[0m \u001b[1;33m=\u001b[0m \u001b[0mnew_string\u001b[0m \u001b[1;33m+\u001b[0m \u001b[0mmorse_code_dict\u001b[0m\u001b[1;33m[\u001b[0m\u001b[0mstring\u001b[0m\u001b[1;33m[\u001b[0m\u001b[0mi\u001b[0m \u001b[1;33m:\u001b[0m \u001b[0mi\u001b[0m \u001b[1;33m+\u001b[0m \u001b[1;36m1\u001b[0m\u001b[1;33m]\u001b[0m\u001b[1;33m]\u001b[0m\u001b[1;33m\u001b[0m\u001b[1;33m\u001b[0m\u001b[0m\n\u001b[0m\u001b[0;32m      8\u001b[0m     \u001b[0mnew_string\u001b[0m \u001b[1;33m=\u001b[0m \u001b[0mnew_string\u001b[0m \u001b[1;33m+\u001b[0m \u001b[1;34m' '\u001b[0m\u001b[1;33m\u001b[0m\u001b[1;33m\u001b[0m\u001b[0m\n\u001b[0;32m      9\u001b[0m \u001b[0mprint\u001b[0m\u001b[1;33m(\u001b[0m\u001b[0mnew_string\u001b[0m\u001b[1;33m)\u001b[0m\u001b[1;33m\u001b[0m\u001b[1;33m\u001b[0m\u001b[0m\n",
      "\u001b[1;31mKeyError\u001b[0m: '-'"
     ]
    }
   ],
   "source": [
    "new_list = system_arguments\n",
    "new_string = ''\n",
    "for i in range(1, len(new_list)):\n",
    "    string = new_list[i]\n",
    "    print(string)\n",
    "    for i in range(0, len(string)):\n",
    "        new_string = new_string + morse_code_dict[string[i : i + 1]]\n",
    "    new_string = new_string + ' '\n",
    "print(new_string)\n",
    "    #print(morse_code_dict[string[i : i + 1]])"
   ]
  },
  {
   "cell_type": "code",
   "execution_count": null,
   "metadata": {},
   "outputs": [],
   "source": []
  }
 ],
 "metadata": {
  "kernelspec": {
   "display_name": "Python 3",
   "language": "python",
   "name": "python3"
  },
  "language_info": {
   "codemirror_mode": {
    "name": "ipython",
    "version": 3
   },
   "file_extension": ".py",
   "mimetype": "text/x-python",
   "name": "python",
   "nbconvert_exporter": "python",
   "pygments_lexer": "ipython3",
   "version": "3.7.3"
  }
 },
 "nbformat": 4,
 "nbformat_minor": 2
}
